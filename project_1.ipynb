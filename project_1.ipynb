{
  "cells": [
    {
      "cell_type": "markdown",
      "metadata": {
        "id": "view-in-github",
        "colab_type": "text"
      },
      "source": [
        "<a href=\"https://colab.research.google.com/github/maramdev/test_phase3_morning/blob/main/project_1.ipynb\" target=\"_parent\"><img src=\"https://colab.research.google.com/assets/colab-badge.svg\" alt=\"Open In Colab\"/></a>"
      ]
    },
    {
      "cell_type": "code",
      "execution_count": null,
      "metadata": {
        "colab": {
          "base_uri": "https://localhost:8080/"
        },
        "id": "EkMtIQcwIfgs",
        "outputId": "2a2e49e2-d253-4159-acdc-30d13dc64635"
      },
      "outputs": [
        {
          "output_type": "stream",
          "name": "stdout",
          "text": [
            "1. Add transaction\n",
            "2. Display transactions\n",
            "3. Display total expenses\n",
            "4. Display total income\n",
            "5. Exit\n",
            "Enter your choice: 1\n",
            "Enter the amount: 10\n",
            "Enter the category: Food\n",
            "Enter the date (yyyy-mm-dd): 2022-07-01\n",
            "Transaction added successfully.\n",
            "1. Add transaction\n",
            "2. Display transactions\n",
            "3. Display total expenses\n",
            "4. Display total income\n",
            "5. Exit\n",
            "Enter your choice: 5\n",
            "Thank you for using the expense tracker!\n"
          ]
        }
      ],
      "source": [
        "import json\n",
        "\n",
        "# Function to load transactions from a JSON file\n",
        "def load_transactions():\n",
        "    try:\n",
        "        with open('transactions.json', 'r') as file:\n",
        "            transactions = json.load(file)\n",
        "    except FileNotFoundError:\n",
        "        transactions = []\n",
        "\n",
        "    return transactions\n",
        "\n",
        "# Function to save transactions to a JSON file\n",
        "def save_transactions(transactions):\n",
        "    with open('transactions.json', 'w') as file:\n",
        "        json.dump(transactions, file)\n",
        "\n",
        "# Function to add a new transaction\n",
        "def add_transaction():\n",
        "    username = str(\"Enter the username:\")\n",
        "    amount = float(input(\"Enter the amount: \"))\n",
        "    category = input(\"Enter the category: \")\n",
        "    date = input(\"Enter the date (yyyy-mm-dd): \")\n",
        "\n",
        "    transaction = {\n",
        "        'username': username,\n",
        "        'amount': amount,\n",
        "        'category': category,\n",
        "        'date': date\n",
        "    }\n",
        "\n",
        "    transactions.append(transaction)\n",
        "    save_transactions(transactions)\n",
        "    print(\"Transaction added successfully.\")\n",
        "\n",
        "# Function to display all transactions\n",
        "def display_transactions():\n",
        "    print(\"Transactions:\")\n",
        "    for transaction in transactions:\n",
        "        print(f\"Amount: {transaction['amount']}, Category: {transaction['category']}, Date: {transaction['date']}\")\n",
        "    print()\n",
        "\n",
        "# Function to display total expenses\n",
        "def display_total_expenses():\n",
        "    total_expenses = sum(transaction['amount'] for transaction in transactions if transaction['amount'] < 0)\n",
        "    print(f\"Total expenses: {total_expenses}\")\n",
        "\n",
        "# Function to display total income\n",
        "def display_total_income():\n",
        "    total_income = sum(transaction['amount'] for transaction in transactions if transaction['amount'] > 0)\n",
        "    print(f\"Total income: {total_income}\")\n",
        "\n",
        "# Main program loop\n",
        "transactions = load_transactions()\n",
        "\n",
        "while True:\n",
        "    print(\"1. Add transaction\")\n",
        "    print(\"2. Display transactions\")\n",
        "    print(\"3. Display total expenses\")\n",
        "    print(\"4. Display total income\")\n",
        "    print(\"5. Exit\")\n",
        "    choice = input(\"Enter your choice: \")\n",
        "\n",
        "    if choice == '1':\n",
        "        add_transaction()\n",
        "    elif choice == '2':\n",
        "        display_transactions()\n",
        "    elif choice == '3':\n",
        "        display_total_expenses()\n",
        "    elif choice == '4':\n",
        "        display_total_income()\n",
        "    elif choice == '5':\n",
        "        break\n",
        "    else:\n",
        "        print(\"Invalid choice. Please try again.\")\n",
        "\n",
        "print(\"Thank you for using the expense tracker!\")"
      ]
    }
  ],
  "metadata": {
    "colab": {
      "provenance": [],
      "authorship_tag": "ABX9TyOvnjxqgbDyDwTt1JKhO619",
      "include_colab_link": true
    },
    "kernelspec": {
      "display_name": "Python 3",
      "name": "python3"
    },
    "language_info": {
      "name": "python"
    }
  },
  "nbformat": 4,
  "nbformat_minor": 0
}